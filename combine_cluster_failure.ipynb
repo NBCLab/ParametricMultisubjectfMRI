{
 "cells": [
  {
   "cell_type": "markdown",
   "metadata": {},
   "source": [
    "# Combine *Cluster Failure* False Positive Maps\n",
    "1. Flirt AFNI and SPM false cluster maps into MNI space (FSL maps are already there).\n",
    "2. Mask maps with FSL's MNI152 2mm brain mask.\n",
    "3. Weight values by prevalence of the package in the literature.\n",
    "    - I just searched *fmri afni*, *fmri fsl*, and *fmri spm* in Google Scholar (on 170311) to get the estimated prevalence of each package.\n",
    "    - Instead of looking into the individual tools within each package, I just divided the package number by the number of tools within the package (1 or 2).\n",
    "4. Combine weighted maps (just add them together).\n",
    "5. Normalize combined map so that each voxel's value is a probability."
   ]
  },
  {
   "cell_type": "code",
   "execution_count": 1,
   "metadata": {
    "collapsed": false
   },
   "outputs": [],
   "source": [
    "from __future__ import division\n",
    "import numpy as np\n",
    "import nibabel as nib\n",
    "from glob import glob\n",
    "from os.path import join, basename, splitext\n",
    "from nipype.interfaces import fsl\n",
    "import shutil\n",
    "import gzip"
   ]
  },
  {
   "cell_type": "code",
   "execution_count": 2,
   "metadata": {
    "collapsed": true
   },
   "outputs": [],
   "source": [
    "par_dir = '/home/tsalo006/Templates/'\n",
    "orig_dir = join(par_dir, 'original_images/')\n",
    "flirt_dir = join(par_dir, 'flirted_images/')\n",
    "mask_dir = join(par_dir, 'masked_images/')\n",
    "gz_dir = join(par_dir, 'gz_images/')"
   ]
  },
  {
   "cell_type": "code",
   "execution_count": 3,
   "metadata": {
    "collapsed": true
   },
   "outputs": [],
   "source": [
    "mask = nib.load('/home/applications/fsl/5.0.8/data/standard/MNI152_T1_2mm_brain_mask.nii.gz')\n",
    "mask = mask.get_data().astype(float)"
   ]
  },
  {
   "cell_type": "code",
   "execution_count": 4,
   "metadata": {
    "collapsed": false
   },
   "outputs": [],
   "source": [
    "fs = sorted(glob(join(orig_dir, '*.nii')))\n",
    "all_data = [[] for _ in range(len(fs))]\n",
    "\n",
    "# Relative frequency of each tool in the literature.\n",
    "tools = ['AFNIMEMA', 'AFNIOLS', 'FSLFLAME', 'FSLOLS', 'SPM']\n",
    "freqs = [11000./2,   11000./2,  15700./2,   15700./2, 46600.]\n",
    "freqs = freqs / np.sum(freqs)\n",
    "\n",
    "for i, f in enumerate(fs):\n",
    "    fname = basename(splitext(f)[0])\n",
    "    gz_f = join(gz_dir, fname+'.nii.gz')\n",
    "    \n",
    "    flirted_f = join(flirt_dir, '{0}.nii.gz'.format(fname))\n",
    "    masked_f = join(mask_dir, '{0}.nii.gz'.format(fname))\n",
    "    \n",
    "    # Gzip original files.\n",
    "    with open(f, 'rb') as fi, gzip.open(gz_f, 'wb') as fo:\n",
    "        shutil.copyfileobj(fi, fo)\n",
    "    \n",
    "    if 'FSL' not in fname:\n",
    "        # FLIRT AFNI and SPM maps to MNI.\n",
    "        flt = fsl.FLIRT(bins=640, cost_func='mutualinfo')\n",
    "        flt.inputs.in_file = gz_f\n",
    "        flt.inputs.reference = '/home/data/nbc/tools/spm8/templates/EPI.nii'\n",
    "        flt.inputs.out_file = flirted_f\n",
    "        flt.inputs.output_type = 'NIFTI_GZ'\n",
    "        flt.run()\n",
    "    else:\n",
    "        # FSL maps already in MNI space.\n",
    "        shutil.copyfile(gz_f, flirted_f)\n",
    "\n",
    "    # Mask each map with the MNI152 brain mask.\n",
    "    dat = nib.load(flirted_f)\n",
    "    data = dat.get_data()\n",
    "    data *= mask\n",
    "    img = nib.Nifti1Image(data, dat.affine)\n",
    "    img.to_filename(masked_f)\n",
    "    \n",
    "    # Weight each map by tool's relative popularity.\n",
    "    # Combine maps.\n",
    "    for j, tool in enumerate(tools):\n",
    "        if tool in fname:\n",
    "            if j == 0:\n",
    "                combined = data * freqs[j]\n",
    "            else:\n",
    "                combined += data * freqs[j]\n",
    "\n",
    "# Normalize.\n",
    "combined = combined / np.sum(combined)\n",
    "\n",
    "# Write out combined map.\n",
    "img = nib.Nifti1Image(combined, dat.affine)\n",
    "img.to_filename('falseclusters_combined.nii.gz')"
   ]
  }
 ],
 "metadata": {
  "anaconda-cloud": {},
  "kernelspec": {
   "display_name": "Python [default]",
   "language": "python",
   "name": "python2"
  },
  "language_info": {
   "codemirror_mode": {
    "name": "ipython",
    "version": 2
   },
   "file_extension": ".py",
   "mimetype": "text/x-python",
   "name": "python",
   "nbconvert_exporter": "python",
   "pygments_lexer": "ipython2",
   "version": "2.7.12"
  }
 },
 "nbformat": 4,
 "nbformat_minor": 1
}
