{
 "cells": [
  {
   "cell_type": "markdown",
   "metadata": {},
   "source": [
    "# Combine *Cluster Failure* False Positive Maps\n",
    "1. Flirt AFNI and SPM false cluster maps into MNI space (FSL maps are already there).\n",
    "2. Mask maps with FSL's MNI152 2mm brain mask.\n",
    "3. Weight values by prevalence of the package in the literature.\n",
    "    - I just searched *fmri afni*, *fmri fsl*, and *fmri spm* in Google Scholar (on 170311) to get the estimated prevalence of each package.\n",
    "    - Instead of looking into the individual tools within each package, I just divided the package number by the number of tools within the package (1 or 2).\n",
    "4. Combine weighted maps (just add them together).\n",
    "5. Normalize combined map so that each voxel's value is a probability."
   ]
  },
  {
   "cell_type": "code",
   "execution_count": 1,
   "metadata": {
    "collapsed": false
   },
   "outputs": [
    {
     "name": "stderr",
     "output_type": "stream",
     "text": [
      "/home/data/nbc/data-analysis/env/lib/python2.7/site-packages/matplotlib/font_manager.py:273: UserWarning: Matplotlib is building the font cache using fc-list. This may take a moment.\n",
      "  warnings.warn('Matplotlib is building the font cache using fc-list. This may take a moment.')\n"
     ]
    }
   ],
   "source": [
    "%matplotlib inline\n",
    "from __future__ import division\n",
    "import gzip\n",
    "import shutil\n",
    "import numpy as np\n",
    "import nibabel as nib\n",
    "from glob import glob\n",
    "from os import remove\n",
    "import seaborn as sns\n",
    "import matplotlib.pyplot as plt\n",
    "from nipype.interfaces import fsl\n",
    "from os.path import join, basename, splitext"
   ]
  },
  {
   "cell_type": "code",
   "execution_count": 2,
   "metadata": {
    "collapsed": true
   },
   "outputs": [],
   "source": [
    "in_dir = '/scratch/tsalo006/ParametricMultisubjectfMRI/Results/'\n",
    "out_dir = join(in_dir, 'mni/')\n",
    "\n",
    "brain_mask = '/home/applications/fsl/5.0.8/data/standard/MNI152_T1_2mm_brain_mask.nii.gz'\n",
    "epi_template = '/home/data/nbc/tools/spm8/templates/EPI.nii'\n",
    "\n",
    "# Relative frequency of each tool in the literature.\n",
    "tools = ['AFNIMEMA', 'AFNIOLS', 'FSLFLAME', 'FSLOLS', 'SPM']\n",
    "freqs = [11000./2,   11000./2,  15700./2,   15700./2, 46600.]\n",
    "freqs = freqs / np.sum(freqs)"
   ]
  },
  {
   "cell_type": "code",
   "execution_count": 3,
   "metadata": {
    "collapsed": true
   },
   "outputs": [],
   "source": [
    "mask = nib.load(brain_mask)\n",
    "mask = mask.get_data().astype(float)"
   ]
  },
  {
   "cell_type": "code",
   "execution_count": 4,
   "metadata": {
    "collapsed": false
   },
   "outputs": [],
   "source": [
    "fs = sorted(glob(join(in_dir, 'falseclusters_*.nii')))\n",
    "all_data = [[] for _ in range(len(fs))]\n",
    "\n",
    "for i, f in enumerate(fs):\n",
    "    fname = basename(splitext(f)[0])\n",
    "    \n",
    "    gz_f = join(in_dir, 'gzipped_{0}.nii.gz'.format(fname))\n",
    "    flirted_f = join(out_dir, '{0}.nii.gz'.format(fname))\n",
    "    #masked_f = join(out_dir, 'masked_{0}.nii.gz'.format(fname))\n",
    "    \n",
    "    # Gzip original files.\n",
    "    with open(f, 'rb') as fi, gzip.open(gz_f, 'wb') as fo:\n",
    "        shutil.copyfileobj(fi, fo)\n",
    "    \n",
    "    if 'FSL' not in fname:\n",
    "        # FLIRT AFNI and SPM maps to MNI.\n",
    "        flt = fsl.FLIRT(bins=640, cost_func='mutualinfo')\n",
    "        flt.inputs.in_file = gz_f\n",
    "        flt.inputs.reference = epi_template\n",
    "        flt.inputs.out_file = flirted_f\n",
    "        flt.inputs.output_type = 'NIFTI_GZ'\n",
    "        flt.run()\n",
    "    else:\n",
    "        # FSL maps already in MNI space.\n",
    "        shutil.copyfile(gz_f, flirted_f)\n",
    "\n",
    "    # Mask each map with the MNI152 brain mask.\n",
    "    dat = nib.load(flirted_f)\n",
    "    data = dat.get_data()\n",
    "    if i == 0:\n",
    "        updated_mask = (data>0).astype(float)\n",
    "        updated_mask *= mask\n",
    "    else:\n",
    "        updated_mask *= (data>0).astype(float)\n",
    "    data *= mask\n",
    "    #img = nib.Nifti1Image(data, dat.affine)\n",
    "    #img.to_filename(masked_f)\n",
    "    \n",
    "    # Remove gzipped files.\n",
    "    remove(gz_f)\n",
    "    \n",
    "    # Weight each map by tool's relative popularity.\n",
    "    # Combine maps.\n",
    "    for j, tool in enumerate(tools):\n",
    "        if tool in fname:\n",
    "            if j == 0:\n",
    "                combined = data * freqs[j]\n",
    "            else:\n",
    "                combined += data * freqs[j]\n",
    "\n",
    "# Write out unnormalized map.\n",
    "combined *= updated_mask\n",
    "img = nib.Nifti1Image(combined, dat.affine)\n",
    "img.to_filename(join(out_dir, 'falseclusters_average.nii.gz'))\n",
    "\n",
    "# Write out normalized map.\n",
    "normed = combined / np.sum(combined)\n",
    "img = nib.Nifti1Image(normed, dat.affine)\n",
    "img.to_filename(join(out_dir, 'falseclusters_average_normed.nii.gz'))"
   ]
  },
  {
   "cell_type": "code",
   "execution_count": 8,
   "metadata": {
    "collapsed": true
   },
   "outputs": [],
   "source": [
    "# Mask map with the MNI152 brain mask.\n",
    "inv = np.max(combined) - combined\n",
    "inv *= updated_mask\n",
    "data *= mask\n",
    "\n",
    "# Write out map.\n",
    "img = nib.Nifti1Image(inv, dat.affine)\n",
    "img.to_filename(join(out_dir, 'falseclusters_average_inv.nii.gz'))"
   ]
  },
  {
   "cell_type": "code",
   "execution_count": 9,
   "metadata": {
    "collapsed": false
   },
   "outputs": [
    {
     "name": "stdout",
     "output_type": "stream",
     "text": [
      "Bottom five percent inverse value: 66.116683903\n",
      "Top five percent value: 42.2155765705\n"
     ]
    }
   ],
   "source": [
    "n_fp_vec = combined[updated_mask>0]\n",
    "n_fp_vec_inv = inv[updated_mask>0]\n",
    "print('Bottom five percent inverse value: {0}'.format(np.percentile(n_fp_vec_inv, 95)))\n",
    "print('Top five percent value: {0}'.format(np.percentile(n_fp_vec, 95)))"
   ]
  },
  {
   "cell_type": "code",
   "execution_count": 10,
   "metadata": {
    "collapsed": false,
    "scrolled": false
   },
   "outputs": [
    {
     "data": {
      "image/png": "[encoded data removed]",
      "text/plain": [
       "<matplotlib.figure.Figure at 0x2aae1ab13810>"
      ]
     },
     "metadata": {},
     "output_type": "display_data"
    }
   ],
   "source": [
    "# Plot distribution of false positives.\n",
    "sns.set_style('whitegrid')\n",
    "arr = 100. * (n_fp_vec / 10000.) # Convert to FPR in percent\n",
    "fig, ax = plt.subplots()\n",
    "sns.distplot(arr, ax=ax)\n",
    "ax.set_ylabel('Frequency (Percent Voxels in Mask)')\n",
    "ax.set_xlabel('False Positive Rate (Percent)')\n",
    "ax.set_xlim((0.0))\n",
    "fig.show()"
   ]
  }
 ],
 "metadata": {
  "anaconda-cloud": {},
  "kernelspec": {
   "display_name": "Python 2",
   "language": "python",
   "name": "python2"
  },
  "language_info": {
   "codemirror_mode": {
    "name": "ipython",
    "version": 2
   },
   "file_extension": ".py",
   "mimetype": "text/x-python",
   "name": "python",
   "nbconvert_exporter": "python",
   "pygments_lexer": "ipython2",
   "version": "2.7.11"
  }
 },
 "nbformat": 4,
 "nbformat_minor": 1
}
